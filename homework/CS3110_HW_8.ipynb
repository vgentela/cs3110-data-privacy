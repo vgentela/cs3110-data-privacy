{
 "cells": [
  {
   "cell_type": "markdown",
   "metadata": {},
   "source": [
    "# CS 3110/5110: Data Privacy\n",
    "## Homework 8"
   ]
  },
  {
   "cell_type": "code",
   "execution_count": null,
   "metadata": {},
   "outputs": [],
   "source": [
    "# Load the data and libraries\n",
    "import pandas as pd\n",
    "import numpy as np\n",
    "import random\n",
    "from scipy import stats\n",
    "import matplotlib.pyplot as plt\n",
    "\n",
    "def laplace_mech(v, sensitivity, epsilon):\n",
    "    return v + np.random.laplace(loc=0, scale=sensitivity / epsilon)\n",
    "\n",
    "def laplace_mech_vec(vec, sensitivity, epsilon):\n",
    "    return [v + np.random.laplace(loc=0, scale=sensitivity / epsilon) for v in vec]\n",
    "\n",
    "def gaussian_mech(v, sensitivity, epsilon, delta):\n",
    "    return v + np.random.normal(loc=0, scale=sensitivity * np.sqrt(2*np.log(1.25/delta)) / epsilon)\n",
    "\n",
    "def gaussian_mech_vec(vec, sensitivity, epsilon, delta):\n",
    "    return [v + np.random.normal(loc=0, scale=sensitivity * np.sqrt(2*np.log(1.25/delta)) / epsilon)\n",
    "            for v in vec]\n",
    "\n",
    "def pct_error(orig, priv):\n",
    "    return np.abs(orig - priv)/orig * 100.0\n",
    "\n",
    "adult = pd.read_csv('https://github.com/jnear/cs3110-data-privacy/raw/main/homework/adult_with_pii.csv')"
   ]
  },
  {
   "cell_type": "code",
   "execution_count": null,
   "metadata": {},
   "outputs": [],
   "source": [
    "# preserves epsilon-differential privacy\n",
    "def above_threshold(query_results, T, epsilon):\n",
    "    T_hat = T + np.random.laplace(loc=0, scale = 2/epsilon)\n",
    "    \n",
    "    for idx, q in enumerate(query_results):\n",
    "        nu_i = np.random.laplace(loc=0, scale = 4/epsilon)\n",
    "        if q + nu_i >= T_hat:\n",
    "            return idx\n",
    "    return None"
   ]
  },
  {
   "cell_type": "markdown",
   "metadata": {},
   "source": [
    "## Question 1 (20 points)\n",
    "\n",
    "Implement a function `above_10000` that releases the **value** of the first query in a sequence of queries whose value is above 10000. Your function should have a **total** privacy cost equal to the privacy parameter $\\epsilon$ passed in when it is called.\n",
    "\n",
    "**Note**: this function (and the rest of the ones you'll define in this assignment) take a list of *query results* rather than the queries themselves (as we saw in class). This simplification makes your code a little bit simpler."
   ]
  },
  {
   "cell_type": "code",
   "execution_count": null,
   "metadata": {
    "deletable": false,
    "nbgrader": {
     "cell_type": "code",
     "checksum": "41882ba11d054eaea45d8fac363b9bc3",
     "grade": false,
     "grade_id": "cell-7d58af13aa2622cd",
     "locked": false,
     "schema_version": 3,
     "solution": true,
     "task": false
    }
   },
   "outputs": [],
   "source": [
    "def above_10000(query_results, epsilon):\n",
    "    # YOUR CODE HERE\n",
    "    raise NotImplementedError()\n",
    "\n",
    "queries = adult['Marital Status'].value_counts()\n",
    "print(f\"above_10000 #1: {above_10000(queries, 100)}\")\n",
    "print(f\"above_10000 #2: {above_10000(queries, 1)}\")\n",
    "print(f\"above_10000 #3: {above_10000(queries, .01)}\")"
   ]
  },
  {
   "cell_type": "code",
   "execution_count": null,
   "metadata": {
    "deletable": false,
    "editable": false,
    "nbgrader": {
     "cell_type": "code",
     "checksum": "9bbb2f261521950cc9bebb0d61c6e95f",
     "grade": true,
     "grade_id": "cell-1cf50100348edbd6",
     "locked": true,
     "points": 20,
     "schema_version": 3,
     "solution": false,
     "task": false
    }
   },
   "outputs": [],
   "source": [
    "# TEST CASE\n",
    "\n",
    "results = [above_10000(queries, 1.0) for _ in range(20)]\n",
    "print(np.mean(results))\n",
    "assert np.mean(results) > 14900\n",
    "assert np.mean(results) < 15000"
   ]
  },
  {
   "cell_type": "markdown",
   "metadata": {},
   "source": [
    "## Question 2 (10 points)\n",
    "In 2-3 sentences, argue informally (via the definition of the sparse vector technique, post-processing, and sequential composition), that your implementation of `above_10000` has a total privacy cost of $\\epsilon$."
   ]
  },
  {
   "cell_type": "markdown",
   "metadata": {
    "deletable": false,
    "nbgrader": {
     "cell_type": "markdown",
     "checksum": "e11d35bbb38ffaa2580254c9e17aff9b",
     "grade": true,
     "grade_id": "cell-3d70d4d8ee9868e9",
     "locked": false,
     "points": 10,
     "schema_version": 3,
     "solution": true,
     "task": false
    }
   },
   "source": [
    "YOUR ANSWER HERE"
   ]
  },
  {
   "cell_type": "markdown",
   "metadata": {},
   "source": [
    "## Question 3 (20 points)\n",
    "\n",
    "Implement a function `bounded_all_above_10000` that releases the **value** of **$c$ queries** in a sequence of queries whose value is above 10000 (where $c$ is an analyst-provided parameter limiting the number of returned results). Your function should have a **total privacy cost** bounded by its parameter $\\epsilon$."
   ]
  },
  {
   "cell_type": "code",
   "execution_count": null,
   "metadata": {
    "deletable": false,
    "nbgrader": {
     "cell_type": "code",
     "checksum": "91bb37e0406efa6d04ea75bc4054530f",
     "grade": false,
     "grade_id": "cell-b0f7fdabc28e37df",
     "locked": false,
     "schema_version": 3,
     "solution": true,
     "task": false
    }
   },
   "outputs": [],
   "source": [
    "def bounded_all_above_10000(query_results, c, epsilon):\n",
    "    # YOUR CODE HERE\n",
    "    raise NotImplementedError()\n",
    "\n",
    "queries = list(adult['Marital Status'].value_counts())\n",
    "print(f\"bounded_all_above_10000 #1: {bounded_all_above_10000(queries, 3, 100)}\")\n",
    "print(f\"bounded_all_above_10000 #2: {bounded_all_above_10000(queries, 3, 1)}\")\n",
    "print(f\"bounded_all_above_10000 #3: {bounded_all_above_10000(queries, 3, .01)}\")"
   ]
  },
  {
   "cell_type": "code",
   "execution_count": null,
   "metadata": {
    "deletable": false,
    "editable": false,
    "nbgrader": {
     "cell_type": "code",
     "checksum": "7d81c9578ff7d4b31f8970c0d389542a",
     "grade": true,
     "grade_id": "cell-c27f3306db2df4fa",
     "locked": true,
     "points": 20,
     "schema_version": 3,
     "solution": false,
     "task": false
    }
   },
   "outputs": [],
   "source": [
    "# TEST CASE\n",
    "\n",
    "results = [bounded_all_above_10000(queries, 2, 1.0)]\n",
    "results_1 = [r[0] for r in results]\n",
    "results_2 = [r[1] for r in results]\n",
    "\n",
    "assert np.mean(results_1) > 14900\n",
    "assert np.mean(results_1) < 15000\n",
    "assert np.mean(results_2) > 10600\n",
    "assert np.mean(results_2) < 10700"
   ]
  },
  {
   "cell_type": "markdown",
   "metadata": {},
   "source": [
    "## Question 4 (10 points)\n",
    "\n",
    "In 2-3 sentences, argue informally that your implementation of `bounded_all_above_10000` has privacy cost bounded by $\\epsilon$."
   ]
  },
  {
   "cell_type": "markdown",
   "metadata": {
    "deletable": false,
    "nbgrader": {
     "cell_type": "markdown",
     "checksum": "cc65750898401dd68f5895f4a558d1dd",
     "grade": true,
     "grade_id": "cell-0908f5d27b9661e6",
     "locked": false,
     "points": 10,
     "schema_version": 3,
     "solution": true,
     "task": false
    }
   },
   "source": [
    "YOUR ANSWER HERE"
   ]
  },
  {
   "cell_type": "markdown",
   "metadata": {},
   "source": [
    "## Question 5 (30 points)\n",
    "\n",
    "Implement a function `mean_age` that computes the mean age of participants in the `adult_data` dataset. Your function should have a **total** privacy cost of $\\epsilon$. It should work as follows:\n",
    "\n",
    "1. Compute an *upper* clipping parameter based on the data\n",
    "2. Clip the data using the clipping parameter\n",
    "3. Use `laplace_mech` to release a differentially private mean of the clipped data\n",
    "\n",
    "*Hint*: Use the sparse vector technique (`above_threshold`) to compute the clipping parameter. Consider using a sequence of queries that looks like `df.clip(lower=b, upper=0).sum() - df.clip(lower=b+1, upper=0).sum()`.\n",
    "\n",
    "*Hint*: Be careful of sensitivities and set the scale of the noise accordingly!"
   ]
  },
  {
   "cell_type": "code",
   "execution_count": null,
   "metadata": {
    "deletable": false,
    "nbgrader": {
     "cell_type": "code",
     "checksum": "987bb7ee607f2971d03d94ec11aa137b",
     "grade": false,
     "grade_id": "cell-fefcc1a8cd056ff5",
     "locked": false,
     "schema_version": 3,
     "solution": true,
     "task": false
    }
   },
   "outputs": [],
   "source": [
    "bs = list(range(0, 200, 10))\n",
    "df = adult['Age']\n",
    "\n",
    "def mean_age(epsilon):\n",
    "    # YOUR CODE HERE\n",
    "    raise NotImplementedError()\n",
    "    \n",
    "for epsilon in [0.001, 0.01, 0.1, 0.5, 1, 10]:\n",
    "    print(f\"epsilon: {epsilon}, mean age: {mean_age(epsilon)}\")"
   ]
  },
  {
   "cell_type": "code",
   "execution_count": null,
   "metadata": {
    "deletable": false,
    "editable": false,
    "nbgrader": {
     "cell_type": "code",
     "checksum": "541b1bf16c7cc220f8b904d1a7e72f61",
     "grade": true,
     "grade_id": "cell-efca6bec52b4b3cc",
     "locked": true,
     "points": 30,
     "schema_version": 3,
     "solution": false,
     "task": false
    }
   },
   "outputs": [],
   "source": [
    "# TEST CASE\n",
    "results = [mean_age(1.0) for _ in range(20)]\n",
    "assert np.mean(results) > 38\n",
    "assert np.mean(results) < 39"
   ]
  },
  {
   "cell_type": "markdown",
   "metadata": {},
   "source": [
    "## Question 6 (10 points)\n",
    "\n",
    "In 3-5 sentences, describe your approach to implementing `mean_age` and argue informally that your implementation has privacy cost bounded by $\\epsilon$."
   ]
  },
  {
   "cell_type": "markdown",
   "metadata": {
    "deletable": false,
    "nbgrader": {
     "cell_type": "markdown",
     "checksum": "b00630bcb6f9db9d1b209913af83dc6c",
     "grade": true,
     "grade_id": "cell-c96a07678fe837cb",
     "locked": false,
     "points": 10,
     "schema_version": 3,
     "solution": true,
     "task": false
    }
   },
   "source": [
    "YOUR ANSWER HERE"
   ]
  },
  {
   "cell_type": "markdown",
   "metadata": {},
   "source": [
    "## Question 7 (20 points)\n",
    "\n",
    "Write an algorithm to compute the maximum of a given column of the adult dataset. Your solution should:\n",
    "\n",
    "1. Use the Sample & Aggregate technique to compute the maximum\n",
    "2. Use AboveThreshold to set the clipping parameter(s) used in Sample & Aggregate"
   ]
  },
  {
   "cell_type": "code",
   "execution_count": null,
   "metadata": {
    "deletable": false,
    "nbgrader": {
     "cell_type": "code",
     "checksum": "7f00c1b174c928014d00b37e70ea2c0a",
     "grade": false,
     "grade_id": "cell-de5a77cbd2059908",
     "locked": false,
     "schema_version": 3,
     "solution": true,
     "task": false
    }
   },
   "outputs": [],
   "source": [
    "bs = [2**x for x in list(range(1, 50))]\n",
    "\n",
    "def f(chunk):\n",
    "    return chunk.max()\n",
    "\n",
    "def saa_max(col, epsilon):\n",
    "    # YOUR CODE HERE\n",
    "    raise NotImplementedError()\n",
    "\n",
    "saa_max('Age', 1.0)"
   ]
  },
  {
   "cell_type": "code",
   "execution_count": null,
   "metadata": {
    "deletable": false,
    "editable": false,
    "nbgrader": {
     "cell_type": "code",
     "checksum": "3897c5b7f188a21739c1661a2ddac2ab",
     "grade": true,
     "grade_id": "cell-d325061167621b36",
     "locked": true,
     "points": 20,
     "schema_version": 3,
     "solution": false,
     "task": false
    }
   },
   "outputs": [],
   "source": [
    "# TEST CASE\n",
    "cols = ['Age', 'Capital Gain', 'fnlwgt']\n",
    "\n",
    "for c in cols:\n",
    "    true_val = adult[c].max()\n",
    "    trials = [saa_max(c, 10.0) for _ in range(20)]\n",
    "    errors = [pct_error(true_val, t) for t in trials]\n",
    "    print('Median error for column ' + c + ':', np.median(errors))\n",
    "    assert np.median(errors) > 0\n",
    "    assert np.median(errors) < 100\n"
   ]
  },
  {
   "cell_type": "markdown",
   "metadata": {},
   "source": [
    "## Question 8 (10 points)\n",
    "\n",
    "In 3-5 sentences, describe your approach to implementing `saa_max` and argue that your approach has total privacy cost bounded by $\\epsilon$."
   ]
  },
  {
   "cell_type": "markdown",
   "metadata": {
    "deletable": false,
    "nbgrader": {
     "cell_type": "markdown",
     "checksum": "442ed6a5a6e0bb69b856ba7b1846fc12",
     "grade": true,
     "grade_id": "cell-13ecfdfe403adada",
     "locked": false,
     "points": 10,
     "schema_version": 3,
     "solution": true,
     "task": false
    }
   },
   "source": [
    "YOUR ANSWER HERE"
   ]
  }
 ],
 "metadata": {
  "kernelspec": {
   "display_name": "Python 3 (ipykernel)",
   "language": "python",
   "name": "python3"
  },
  "language_info": {
   "codemirror_mode": {
    "name": "ipython",
    "version": 3
   },
   "file_extension": ".py",
   "mimetype": "text/x-python",
   "name": "python",
   "nbconvert_exporter": "python",
   "pygments_lexer": "ipython3",
   "version": "3.10.12"
  }
 },
 "nbformat": 4,
 "nbformat_minor": 4
}
